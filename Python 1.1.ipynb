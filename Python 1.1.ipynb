{
 "cells": [
  {
   "cell_type": "markdown",
   "metadata": {},
   "source": [
    "# Week 2 - Monday Lesson (variable assignment, loops, lists)"
   ]
  },
  {
   "cell_type": "markdown",
   "metadata": {},
   "source": [
    "## Tasks Today:\n",
    "\n",
    "1) Int & Float assignments <br>\n",
    " &nbsp;&nbsp;&nbsp;&nbsp; a) Assigning int <br>\n",
    " &nbsp;&nbsp;&nbsp;&nbsp; b) Assigning float <br>\n",
    " &nbsp;&nbsp;&nbsp;&nbsp; c) Performing Calculations on ints and floats <br>\n",
    " &nbsp;&nbsp;&nbsp;&nbsp;&nbsp;&nbsp;&nbsp;&nbsp; - Addition <br>\n",
    " &nbsp;&nbsp;&nbsp;&nbsp;&nbsp;&nbsp;&nbsp;&nbsp; - Subtraction <br>\n",
    " &nbsp;&nbsp;&nbsp;&nbsp;&nbsp;&nbsp;&nbsp;&nbsp; - Multiplication <br>\n",
    " &nbsp;&nbsp;&nbsp;&nbsp;&nbsp;&nbsp;&nbsp;&nbsp; - Division <br>\n",
    " &nbsp;&nbsp;&nbsp;&nbsp;&nbsp;&nbsp;&nbsp;&nbsp; - Floor Division <br>\n",
    " &nbsp;&nbsp;&nbsp;&nbsp;&nbsp;&nbsp;&nbsp;&nbsp; - Modulo <br>\n",
    " &nbsp;&nbsp;&nbsp;&nbsp;&nbsp;&nbsp;&nbsp;&nbsp; - Exponential <br>\n",
    "2) String Input-Output <br>\n",
    " &nbsp;&nbsp;&nbsp;&nbsp; a) String Assignment <br>\n",
    " &nbsp;&nbsp;&nbsp;&nbsp; b) print() <br>\n",
    " &nbsp;&nbsp;&nbsp;&nbsp; c) String Concatenation <br>\n",
    " &nbsp;&nbsp;&nbsp;&nbsp; d) Type Conversion <br>\n",
    " &nbsp;&nbsp;&nbsp;&nbsp; e) input() <br>\n",
    " &nbsp;&nbsp;&nbsp;&nbsp; f) format() <br>\n",
    " &nbsp;&nbsp;&nbsp;&nbsp; g) Old Way (python 2) <br>\n",
    "3) <b>In-Class Exercise #1</b> <br>\n",
    "4) If Statements <br>\n",
    " &nbsp;&nbsp;&nbsp;&nbsp; a) 'is' keyword <br>\n",
    " &nbsp;&nbsp;&nbsp;&nbsp; b) 'in' keyword <br>\n",
    " &nbsp;&nbsp;&nbsp;&nbsp; c) 'not in' keyword <br>\n",
    "5) <b>In-Class Exercise #2</b> <br>\n",
    "6) Elif Statements <br>\n",
    "7) Else Statements <br>\n",
    "8) <b>In-Class Exercise #3</b> <br>\n",
    "9) For Loops <br>\n",
    " &nbsp;&nbsp;&nbsp;&nbsp; a) Using 'in' keyword <br>\n",
    " &nbsp;&nbsp;&nbsp;&nbsp; b) Continue Statement <br>\n",
    " &nbsp;&nbsp;&nbsp;&nbsp; c) Break Statement <br>\n",
    " &nbsp;&nbsp;&nbsp;&nbsp; d) Pass Statement <br>\n",
    " &nbsp;&nbsp;&nbsp;&nbsp; e) Double For Loops <br>\n",
    "10) While Loops <br>\n",
    " &nbsp;&nbsp;&nbsp;&nbsp; a) Looping 'While True' <br>\n",
    " &nbsp;&nbsp;&nbsp;&nbsp; b) While and For Loops Used Together <br>\n",
    "11) Built-In Functions <br>\n",
    " &nbsp;&nbsp;&nbsp;&nbsp; a) range() <br>\n",
    " &nbsp;&nbsp;&nbsp;&nbsp; b) len() <br>\n",
    " &nbsp;&nbsp;&nbsp;&nbsp; c) help() <br>\n",
    " &nbsp;&nbsp;&nbsp;&nbsp; d) isinstance() <br>\n",
    " &nbsp;&nbsp;&nbsp;&nbsp; e) abs() <br>\n",
    "12) Try and Except <br>\n",
    "13) Lists <br>\n",
    " &nbsp;&nbsp;&nbsp;&nbsp; a) Declaring Lists <br>\n",
    " &nbsp;&nbsp;&nbsp;&nbsp; b) Indexing a List <br>\n",
    " &nbsp;&nbsp;&nbsp;&nbsp; c) .append() <br>\n",
    " &nbsp;&nbsp;&nbsp;&nbsp; d) .insert() <br>\n",
    " &nbsp;&nbsp;&nbsp;&nbsp; e) .pop() <br>\n",
    " &nbsp;&nbsp;&nbsp;&nbsp; f) .remove() <br>\n",
    " &nbsp;&nbsp;&nbsp;&nbsp; g) del() <br>\n",
    " &nbsp;&nbsp;&nbsp;&nbsp; h) Concatenating Two Lists <br>\n",
    " &nbsp;&nbsp;&nbsp;&nbsp; i) Lists Within Lists <br>\n",
    " &nbsp;&nbsp;&nbsp;&nbsp; j) Looping Through Lists <br>"
   ]
  },
  {
   "cell_type": "markdown",
   "metadata": {},
   "source": [
    "### Int & Float Assignments"
   ]
  },
  {
   "cell_type": "markdown",
   "metadata": {},
   "source": [
    "##### Assigning int"
   ]
  },
  {
   "cell_type": "code",
   "execution_count": 1,
   "metadata": {},
   "outputs": [
    {
     "name": "stdout",
     "output_type": "stream",
     "text": [
      "6\n"
     ]
    }
   ],
   "source": [
    "number = 6\n",
    "\n",
    "print(number)"
   ]
  },
  {
   "cell_type": "markdown",
   "metadata": {},
   "source": [
    "##### Assinging float"
   ]
  },
  {
   "cell_type": "code",
   "execution_count": 4,
   "metadata": {},
   "outputs": [
    {
     "name": "stdout",
     "output_type": "stream",
     "text": [
      "2.3\n",
      "2.3\n",
      "7.4\n"
     ]
    }
   ],
   "source": [
    "numberFloat=2.3\n",
    "print(numberFloat)\n",
    "print(numberFloat)\n",
    "numberFloat=7.4\n",
    "print(numberFloat)"
   ]
  },
  {
   "cell_type": "markdown",
   "metadata": {},
   "source": [
    "#### Performing Calculations on ints and floats"
   ]
  },
  {
   "cell_type": "markdown",
   "metadata": {},
   "source": [
    "##### Addition"
   ]
  },
  {
   "cell_type": "code",
   "execution_count": 8,
   "metadata": {},
   "outputs": [
    {
     "name": "stdout",
     "output_type": "stream",
     "text": [
      "55.4\n",
      "57.4\n"
     ]
    }
   ],
   "source": [
    "num1 = 2\n",
    "num2 =53.4\n",
    "\n",
    "result = num1+ num2\n",
    "\n",
    "print(result)\n",
    "\n",
    "# result+=2\n",
    "\n",
    "print(result +2)"
   ]
  },
  {
   "cell_type": "markdown",
   "metadata": {},
   "source": [
    "##### Subtraction"
   ]
  },
  {
   "cell_type": "code",
   "execution_count": 12,
   "metadata": {},
   "outputs": [
    {
     "name": "stdout",
     "output_type": "stream",
     "text": [
      "51.4\n",
      "50.4\n"
     ]
    }
   ],
   "source": [
    "result_diff = num2- num1\n",
    "print(result_diff)\n",
    "\n",
    "result_diff -= 1\n",
    "print(result_diff)"
   ]
  },
  {
   "cell_type": "markdown",
   "metadata": {},
   "source": [
    "##### Multiplication"
   ]
  },
  {
   "cell_type": "code",
   "execution_count": 14,
   "metadata": {},
   "outputs": [
    {
     "name": "stdout",
     "output_type": "stream",
     "text": [
      "106.8\n",
      "213.6\n"
     ]
    }
   ],
   "source": [
    "result_mul = num1*num2\n",
    "print(result_mul)\n",
    "\n",
    "result_mul*=2\n",
    "print(result_mul)"
   ]
  },
  {
   "cell_type": "markdown",
   "metadata": {},
   "source": [
    "##### Division"
   ]
  },
  {
   "cell_type": "code",
   "execution_count": 15,
   "metadata": {},
   "outputs": [
    {
     "name": "stdout",
     "output_type": "stream",
     "text": [
      "0.03745318352059925\n",
      "0.018726591760299626\n"
     ]
    }
   ],
   "source": [
    "result_div = num1/num2\n",
    "print(result_div)\n",
    "\n",
    "result_div/=2\n",
    "print(result_div)"
   ]
  },
  {
   "cell_type": "markdown",
   "metadata": {},
   "source": [
    "##### Floor Division"
   ]
  },
  {
   "cell_type": "code",
   "execution_count": 16,
   "metadata": {},
   "outputs": [
    {
     "name": "stdout",
     "output_type": "stream",
     "text": [
      "0.0\n",
      "0.0\n"
     ]
    }
   ],
   "source": [
    "result_floor = num1//num2\n",
    "print(result_floor)\n",
    "\n",
    "result_floor//=2\n",
    "print(result_floor)"
   ]
  },
  {
   "cell_type": "markdown",
   "metadata": {},
   "source": [
    "##### Modulo"
   ]
  },
  {
   "cell_type": "code",
   "execution_count": 19,
   "metadata": {},
   "outputs": [
    {
     "name": "stdout",
     "output_type": "stream",
     "text": [
      "1\n",
      "1\n"
     ]
    }
   ],
   "source": [
    "result_mod = 13 % 2\n",
    "print(result_mod)\n",
    "\n",
    "result_mod %= 2\n",
    "print(result_mod)"
   ]
  },
  {
   "cell_type": "markdown",
   "metadata": {},
   "source": [
    "##### Exponential"
   ]
  },
  {
   "cell_type": "code",
   "execution_count": 21,
   "metadata": {},
   "outputs": [
    {
     "name": "stdout",
     "output_type": "stream",
     "text": [
      "25\n",
      "625\n"
     ]
    }
   ],
   "source": [
    "square = 5**2\n",
    "print(square)\n",
    "\n",
    "square**=2\n",
    "print(square)"
   ]
  },
  {
   "cell_type": "markdown",
   "metadata": {},
   "source": [
    "### String Input-Output"
   ]
  },
  {
   "cell_type": "markdown",
   "metadata": {},
   "source": [
    "##### String Assignment"
   ]
  },
  {
   "cell_type": "code",
   "execution_count": 22,
   "metadata": {},
   "outputs": [
    {
     "name": "stdout",
     "output_type": "stream",
     "text": [
      "JOel\n"
     ]
    }
   ],
   "source": [
    "name=\"JOel\"\n",
    "print(name)"
   ]
  },
  {
   "cell_type": "markdown",
   "metadata": {},
   "source": [
    "##### print() <br>\n",
    "<p>Don't forget about end=' '</p>"
   ]
  },
  {
   "cell_type": "code",
   "execution_count": 24,
   "metadata": {},
   "outputs": [
    {
     "name": "stdout",
     "output_type": "stream",
     "text": [
      "This is my first name:  JOel\n",
      "Full name: JOel Renco"
     ]
    }
   ],
   "source": [
    "print(\"This is my first name: \", name)\n",
    "\n",
    "print(\"Full name:\", name, end=\" Renco\")"
   ]
  },
  {
   "cell_type": "markdown",
   "metadata": {},
   "source": [
    "##### String Concatenation"
   ]
  },
  {
   "cell_type": "code",
   "execution_count": 26,
   "metadata": {},
   "outputs": [
    {
     "name": "stdout",
     "output_type": "stream",
     "text": [
      "John Smith\n",
      "John Smith, Jr\n"
     ]
    }
   ],
   "source": [
    "first_name = \"John\"\n",
    "last_name = \"Smith\"\n",
    "\n",
    "full_name = first_name + \" \" + last_name\n",
    "print(full_name)\n",
    "\n",
    "full_name += \", Jr\"\n",
    "print(full_name)"
   ]
  },
  {
   "cell_type": "markdown",
   "metadata": {},
   "source": [
    "##### Type Conversion"
   ]
  },
  {
   "cell_type": "code",
   "execution_count": 35,
   "metadata": {},
   "outputs": [
    {
     "name": "stdout",
     "output_type": "stream",
     "text": [
      "32\n",
      "32\n",
      "33\n"
     ]
    },
    {
     "data": {
      "text/plain": [
       "int"
      ]
     },
     "execution_count": 35,
     "metadata": {},
     "output_type": "execute_result"
    }
   ],
   "source": [
    "number=\"32\"\n",
    "change_type_num = int(number)\n",
    "print(number)\n",
    "# print(number+1)\n",
    "print(change_type_num)\n",
    "print(change_type_num+1)\n",
    "type(change_type_num)"
   ]
  },
  {
   "cell_type": "markdown",
   "metadata": {},
   "source": [
    "##### input()"
   ]
  },
  {
   "cell_type": "code",
   "execution_count": 38,
   "metadata": {},
   "outputs": [
    {
     "name": "stdout",
     "output_type": "stream",
     "text": [
      "What is your name?Me\n",
      "Nice to meet you, Me\n",
      "What is your age?15\n",
      "18\n"
     ]
    }
   ],
   "source": [
    "#input will always return a string \n",
    "\n",
    "name=input('What is your name?')\n",
    "print(\"Nice to meet you, \" +name)\n",
    "\n",
    "age=int(input('What is your age?'))\n",
    "print(age+3)"
   ]
  },
  {
   "cell_type": "markdown",
   "metadata": {},
   "source": [
    "##### format()"
   ]
  },
  {
   "cell_type": "code",
   "execution_count": 42,
   "metadata": {},
   "outputs": [
    {
     "name": "stdout",
     "output_type": "stream",
     "text": [
      "What is your age?13\n",
      "You are 13 Me and somethins\n",
      "13 is a great time in life\n"
     ]
    }
   ],
   "source": [
    "age=input(\"What is your age?\")\n",
    "\n",
    "result_string = \"You are {} {} and somethins\".format(age,name)\n",
    "print(result_string)\n",
    "\n",
    "result_again = f\"{age} is a great time in life\"\n",
    "print(result_again)"
   ]
  },
  {
   "cell_type": "markdown",
   "metadata": {},
   "source": [
    "##### Old Way (python 2)"
   ]
  },
  {
   "cell_type": "code",
   "execution_count": 44,
   "metadata": {},
   "outputs": [
    {
     "name": "stdout",
     "output_type": "stream",
     "text": [
      "13\n"
     ]
    }
   ],
   "source": [
    "result_string2 = \"You are %s\" %age\n",
    "print(age)"
   ]
  },
  {
   "cell_type": "markdown",
   "metadata": {},
   "source": [
    "# In-Class Exercise 1 <br>\n",
    "<p>Create a format statement that asks for color, year, make, model and prints out the results</p>"
   ]
  },
  {
   "cell_type": "code",
   "execution_count": 48,
   "metadata": {},
   "outputs": [
    {
     "name": "stdout",
     "output_type": "stream",
     "text": [
      "What is the color?blue\n",
      "What is the year?2003\n",
      "What is the make?Ford\n",
      "What is the model?Challenger\n",
      "This is a blue 2003 Ford Challenger.\n"
     ]
    }
   ],
   "source": [
    "color = input(\"What is the color?\")\n",
    "year = input(\"What is the year?\")\n",
    "make = input (\"What is the make?\")\n",
    "model = input (\"What is the model?\")\n",
    "\n",
    "result = f\"This is a {color} {year} {make} {model}.\"\n",
    "print(result)"
   ]
  },
  {
   "cell_type": "markdown",
   "metadata": {},
   "source": [
    "### If Statements"
   ]
  },
  {
   "cell_type": "code",
   "execution_count": 51,
   "metadata": {},
   "outputs": [
    {
     "name": "stdout",
     "output_type": "stream",
     "text": [
      "This is not true.\n",
      "Is not equal\n",
      "Num two is greater\n"
     ]
    }
   ],
   "source": [
    "# Available operators: Greater(>), Less(<),Equal(==)\n",
    "# Greater or Equal(>=), Less or Equal (<=)\n",
    "\n",
    "# Truth Tree:\n",
    "# T && F = F\n",
    "# T && T = T\n",
    "# T || F = T\n",
    "# F || T = T\n",
    "# F || F = F\n",
    "\n",
    "num1=\"6\"\n",
    "\n",
    "if num1 == 6:\n",
    "    print('This is true')\n",
    "else:\n",
    "    print(\"This is not true.\")\n",
    "    \n",
    "\n",
    "num1=6\n",
    "num2=10\n",
    "if num1 == num2:\n",
    "    print(\"Is equal\")\n",
    "else:\n",
    "    print(\"Is not equal\")\n",
    "    \n",
    "if num2>num1:\n",
    "    print(\"Num two is greater\")\n",
    "elif num1>num2:\n",
    "    print(\"Num one is greater\")\n",
    "else:\n",
    "    print(\"They are equal\")"
   ]
  },
  {
   "cell_type": "markdown",
   "metadata": {},
   "source": [
    "##### 'is' keyword"
   ]
  },
  {
   "cell_type": "code",
   "execution_count": 52,
   "metadata": {
    "scrolled": true
   },
   "outputs": [
    {
     "name": "stdout",
     "output_type": "stream",
     "text": [
      "This is the exact same object\n"
     ]
    }
   ],
   "source": [
    "num3 = 55\n",
    "\n",
    "if num3 == 55:\n",
    "    print(\"This is the exact same object\")"
   ]
  },
  {
   "cell_type": "markdown",
   "metadata": {},
   "source": [
    "##### 'in' keyword"
   ]
  },
  {
   "cell_type": "code",
   "execution_count": 53,
   "metadata": {},
   "outputs": [
    {
     "name": "stdout",
     "output_type": "stream",
     "text": [
      "The ring bearer\n"
     ]
    }
   ],
   "source": [
    "character_name=\"Frodo Baggins\"\n",
    "\n",
    "if \"Frodo\" in character_name:\n",
    "    print(\"The ring bearer\")"
   ]
  },
  {
   "cell_type": "markdown",
   "metadata": {},
   "source": [
    "##### 'not in' keyword'"
   ]
  },
  {
   "cell_type": "code",
   "execution_count": 54,
   "metadata": {},
   "outputs": [
    {
     "name": "stdout",
     "output_type": "stream",
     "text": [
      "a is NOT here\n"
     ]
    }
   ],
   "source": [
    "sega_character=\"Sonic\"\n",
    "\n",
    "if 'a' not in sega_character:\n",
    "    print ('a is NOT here')"
   ]
  },
  {
   "cell_type": "markdown",
   "metadata": {},
   "source": [
    "# In-Class Exercise 2 <br>\n",
    "<p>Ask user for input, check to see if the letter 'p' is in the input</p>"
   ]
  },
  {
   "cell_type": "code",
   "execution_count": 56,
   "metadata": {},
   "outputs": [
    {
     "name": "stdout",
     "output_type": "stream",
     "text": [
      "Please enter any input:This is my sentence\n",
      "The letter p is not in This is my sentence\n"
     ]
    }
   ],
   "source": [
    "is_p = input(\"Please enter any input:\")\n",
    "\n",
    "if 'p' in is_p:\n",
    "    print(\"the letter p is in \"+is_p)\n",
    "else:\n",
    "    print(\"The letter p is not in \" + is_p)"
   ]
  },
  {
   "cell_type": "markdown",
   "metadata": {},
   "source": [
    "## Using 'and'/'or' with If Statements"
   ]
  },
  {
   "cell_type": "code",
   "execution_count": 60,
   "metadata": {},
   "outputs": [
    {
     "name": "stdout",
     "output_type": "stream",
     "text": [
      "True and true\n",
      "True and false\n"
     ]
    }
   ],
   "source": [
    "num_11=15\n",
    "num_12=3\n",
    "num_13=10\n",
    "num_14=3\n",
    "\n",
    "if num_11/5 == num_12 and num_13 -7 == num_14:\n",
    "    print(\"True and true\")\n",
    "    \n",
    "if num_11>num_12 or num_13 == num_14:\n",
    "    print(\"True and false\")\n",
    "    \n",
    "if num_11>num_12 and num_13 == num_14:\n",
    "    print(\"True and false\")\n"
   ]
  },
  {
   "cell_type": "markdown",
   "metadata": {},
   "source": [
    "### Elif Statements"
   ]
  },
  {
   "cell_type": "code",
   "execution_count": 64,
   "metadata": {},
   "outputs": [
    {
     "name": "stdout",
     "output_type": "stream",
     "text": [
      "WHat is your nameMax\n",
      "It is some other name\n"
     ]
    }
   ],
   "source": [
    "first_name=input(\"WHat is your name? \")\n",
    "\n",
    "if first_name == \"Smith\":\n",
    "    print(\"The name is Smith\")\n",
    "elif first_name != \"Max\":\n",
    "    print(\"The name is not Max\")\n",
    "elif first_name == \"Brandon\":\n",
    "    print(\"The name is your name\")\n",
    "else:\n",
    "    print(\"It is some other name\")\n",
    "    "
   ]
  },
  {
   "cell_type": "markdown",
   "metadata": {},
   "source": [
    "### Else Statements"
   ]
  },
  {
   "cell_type": "code",
   "execution_count": null,
   "metadata": {},
   "outputs": [],
   "source": [
    "# see above"
   ]
  },
  {
   "cell_type": "markdown",
   "metadata": {},
   "source": [
    "### For Loops"
   ]
  },
  {
   "cell_type": "code",
   "execution_count": 67,
   "metadata": {},
   "outputs": [
    {
     "name": "stdout",
     "output_type": "stream",
     "text": [
      "Brandon\n",
      "B\n",
      "r\n",
      "a\n",
      "n\n",
      "d\n",
      "o\n",
      "n\n"
     ]
    }
   ],
   "source": [
    "name=\"Brandon\"\n",
    "print(name)\n",
    "\n",
    "for letter in name:\n",
    "    print (letter)"
   ]
  },
  {
   "cell_type": "markdown",
   "metadata": {},
   "source": [
    "##### Using 'in' keyword"
   ]
  },
  {
   "cell_type": "code",
   "execution_count": null,
   "metadata": {},
   "outputs": [],
   "source": [
    "# see above"
   ]
  },
  {
   "cell_type": "markdown",
   "metadata": {},
   "source": [
    "##### Continue Statement"
   ]
  },
  {
   "cell_type": "code",
   "execution_count": null,
   "metadata": {},
   "outputs": [],
   "source": [
    "# will continue to next iteration"
   ]
  },
  {
   "cell_type": "code",
   "execution_count": 69,
   "metadata": {},
   "outputs": [
    {
     "name": "stdout",
     "output_type": "stream",
     "text": [
      "0\n",
      "1\n",
      "2\n",
      "3\n",
      "4\n",
      "6\n",
      "7\n",
      "8\n",
      "9\n",
      "10\n",
      "11\n",
      "12\n",
      "13\n",
      "14\n",
      "15\n",
      "16\n",
      "17\n",
      "18\n",
      "19\n"
     ]
    }
   ],
   "source": [
    "for i in range(20):\n",
    "    if i == 5:\n",
    "        continue\n",
    "    print(i)"
   ]
  },
  {
   "cell_type": "markdown",
   "metadata": {},
   "source": [
    "##### Break Statement"
   ]
  },
  {
   "cell_type": "code",
   "execution_count": null,
   "metadata": {},
   "outputs": [],
   "source": [
    "# will break out of current loop"
   ]
  },
  {
   "cell_type": "code",
   "execution_count": 70,
   "metadata": {},
   "outputs": [
    {
     "name": "stdout",
     "output_type": "stream",
     "text": [
      "0\n",
      "1\n",
      "2\n",
      "3\n",
      "4\n"
     ]
    }
   ],
   "source": [
    "for i in range(20):\n",
    "    if i == 5:\n",
    "        break\n",
    "    print(i)"
   ]
  },
  {
   "cell_type": "markdown",
   "metadata": {},
   "source": [
    "##### Pass Statement"
   ]
  },
  {
   "cell_type": "code",
   "execution_count": null,
   "metadata": {},
   "outputs": [],
   "source": [
    "# mostly used as a placeholder, and will continue on same iteration"
   ]
  },
  {
   "cell_type": "code",
   "execution_count": 71,
   "metadata": {},
   "outputs": [],
   "source": [
    "for i in name:\n",
    "    pass"
   ]
  },
  {
   "cell_type": "markdown",
   "metadata": {},
   "source": [
    "##### Double For Loops"
   ]
  },
  {
   "cell_type": "code",
   "execution_count": 73,
   "metadata": {},
   "outputs": [
    {
     "name": "stdout",
     "output_type": "stream",
     "text": [
      "i = 0  j = 0\n",
      "i = 0  j = 1\n",
      "i = 0  j = 2\n",
      "i = 0  j = 3\n",
      "i = 0  j = 4\n",
      "i = 1  j = 0\n",
      "i = 1  j = 1\n",
      "i = 1  j = 2\n",
      "i = 1  j = 3\n",
      "i = 1  j = 4\n",
      "i = 2  j = 0\n",
      "i = 2  j = 1\n",
      "i = 2  j = 2\n",
      "i = 2  j = 3\n",
      "i = 2  j = 4\n",
      "i = 3  j = 0\n",
      "i = 3  j = 1\n",
      "i = 3  j = 2\n",
      "i = 3  j = 3\n",
      "i = 3  j = 4\n",
      "i = 4  j = 0\n",
      "i = 4  j = 1\n",
      "i = 4  j = 2\n",
      "i = 4  j = 3\n",
      "i = 4  j = 4\n"
     ]
    }
   ],
   "source": [
    "# dont do it \n",
    "for i in range (5):\n",
    "    for j in range (5):\n",
    "        print('i =', i, ' j =', j)"
   ]
  },
  {
   "cell_type": "markdown",
   "metadata": {},
   "source": [
    "### While Loops"
   ]
  },
  {
   "cell_type": "code",
   "execution_count": 76,
   "metadata": {},
   "outputs": [
    {
     "name": "stdout",
     "output_type": "stream",
     "text": [
      "0\n",
      "1\n",
      "2\n",
      "3\n",
      "4\n",
      "5\n",
      "6\n",
      "7\n",
      "8\n",
      "9\n"
     ]
    }
   ],
   "source": [
    "# will continue as long as somehting is true \n",
    "# num = 0\n",
    "\n",
    "# while num<10:\n",
    "#     print(num) \n",
    "    \n",
    "#     you will need to use ctrl c to stop this\n",
    "num = 0\n",
    "\n",
    "while num<10:\n",
    "    print(num)\n",
    "    num+=1\n"
   ]
  },
  {
   "cell_type": "markdown",
   "metadata": {},
   "source": [
    "##### Looping 'While True'"
   ]
  },
  {
   "cell_type": "code",
   "execution_count": 79,
   "metadata": {},
   "outputs": [
    {
     "name": "stdout",
     "output_type": "stream",
     "text": [
      "Infinite loop\n",
      "Would you like to stop? no\n",
      "Infinite loop\n",
      "Would you like to stop? no\n",
      "Infinite loop\n",
      "Would you like to stop? Yes\n",
      "Infinite loop\n",
      "Would you like to stop? YEsss\n",
      "Infinite loop\n",
      "Would you like to stop? no\n",
      "Infinite loop\n",
      "Would you like to stop? yes\n"
     ]
    }
   ],
   "source": [
    "game_over=True\n",
    "\n",
    "while game_over:\n",
    "    print(\"Infinite loop\")\n",
    "    user_input = input (\"Would you like to stop? \")\n",
    "    if user_input == 'yes':\n",
    "        game_over=False"
   ]
  },
  {
   "cell_type": "markdown",
   "metadata": {},
   "source": [
    "##### While & For Loops Used Together"
   ]
  },
  {
   "cell_type": "code",
   "execution_count": 80,
   "metadata": {},
   "outputs": [
    {
     "name": "stdout",
     "output_type": "stream",
     "text": [
      "\n",
      " While loop interation: 0\n",
      "For loop interation:  1\n",
      "For loop interation:  2\n",
      "\n",
      " While loop interation: 1\n",
      "For loop interation:  1\n",
      "For loop interation:  2\n",
      "\n",
      " While loop interation: 2\n",
      "For loop interation:  1\n",
      "For loop interation:  2\n",
      "\n",
      " While loop interation: 3\n",
      "For loop interation:  1\n",
      "For loop interation:  2\n",
      "\n",
      " While loop interation: 4\n",
      "For loop interation:  1\n",
      "For loop interation:  2\n"
     ]
    }
   ],
   "source": [
    "num = 0\n",
    "\n",
    "while num <5:\n",
    "    print (\"\\n While loop interation: \" +str(num))\n",
    "    \n",
    "    for i in range(2):\n",
    "        print(\"For loop interation: \", str(i + 1))\n",
    "        \n",
    "    num+=1"
   ]
  },
  {
   "cell_type": "markdown",
   "metadata": {},
   "source": [
    "### Built-In Functions"
   ]
  },
  {
   "cell_type": "markdown",
   "metadata": {},
   "source": [
    "##### range()"
   ]
  },
  {
   "cell_type": "code",
   "execution_count": 87,
   "metadata": {},
   "outputs": [
    {
     "data": {
      "text/plain": [
       "[5, 6, 7, 8, 9]"
      ]
     },
     "execution_count": 87,
     "metadata": {},
     "output_type": "execute_result"
    }
   ],
   "source": [
    "# start, stop, step\n",
    "\n",
    "list(range(5))\n",
    "list(range(5,10))"
   ]
  },
  {
   "cell_type": "markdown",
   "metadata": {},
   "source": [
    "##### len()"
   ]
  },
  {
   "cell_type": "code",
   "execution_count": 88,
   "metadata": {},
   "outputs": [
    {
     "data": {
      "text/plain": [
       "5"
      ]
     },
     "execution_count": 88,
     "metadata": {},
     "output_type": "execute_result"
    }
   ],
   "source": [
    "len(\"hello\")"
   ]
  },
  {
   "cell_type": "markdown",
   "metadata": {},
   "source": [
    "##### help()"
   ]
  },
  {
   "cell_type": "code",
   "execution_count": 89,
   "metadata": {},
   "outputs": [
    {
     "name": "stdout",
     "output_type": "stream",
     "text": [
      "Help on class range in module builtins:\n",
      "\n",
      "class range(object)\n",
      " |  range(stop) -> range object\n",
      " |  range(start, stop[, step]) -> range object\n",
      " |  \n",
      " |  Return an object that produces a sequence of integers from start (inclusive)\n",
      " |  to stop (exclusive) by step.  range(i, j) produces i, i+1, i+2, ..., j-1.\n",
      " |  start defaults to 0, and stop is omitted!  range(4) produces 0, 1, 2, 3.\n",
      " |  These are exactly the valid indices for a list of 4 elements.\n",
      " |  When step is given, it specifies the increment (or decrement).\n",
      " |  \n",
      " |  Methods defined here:\n",
      " |  \n",
      " |  __bool__(self, /)\n",
      " |      self != 0\n",
      " |  \n",
      " |  __contains__(self, key, /)\n",
      " |      Return key in self.\n",
      " |  \n",
      " |  __eq__(self, value, /)\n",
      " |      Return self==value.\n",
      " |  \n",
      " |  __ge__(self, value, /)\n",
      " |      Return self>=value.\n",
      " |  \n",
      " |  __getattribute__(self, name, /)\n",
      " |      Return getattr(self, name).\n",
      " |  \n",
      " |  __getitem__(self, key, /)\n",
      " |      Return self[key].\n",
      " |  \n",
      " |  __gt__(self, value, /)\n",
      " |      Return self>value.\n",
      " |  \n",
      " |  __hash__(self, /)\n",
      " |      Return hash(self).\n",
      " |  \n",
      " |  __iter__(self, /)\n",
      " |      Implement iter(self).\n",
      " |  \n",
      " |  __le__(self, value, /)\n",
      " |      Return self<=value.\n",
      " |  \n",
      " |  __len__(self, /)\n",
      " |      Return len(self).\n",
      " |  \n",
      " |  __lt__(self, value, /)\n",
      " |      Return self<value.\n",
      " |  \n",
      " |  __ne__(self, value, /)\n",
      " |      Return self!=value.\n",
      " |  \n",
      " |  __reduce__(...)\n",
      " |      Helper for pickle.\n",
      " |  \n",
      " |  __repr__(self, /)\n",
      " |      Return repr(self).\n",
      " |  \n",
      " |  __reversed__(...)\n",
      " |      Return a reverse iterator.\n",
      " |  \n",
      " |  count(...)\n",
      " |      rangeobject.count(value) -> integer -- return number of occurrences of value\n",
      " |  \n",
      " |  index(...)\n",
      " |      rangeobject.index(value) -> integer -- return index of value.\n",
      " |      Raise ValueError if the value is not present.\n",
      " |  \n",
      " |  ----------------------------------------------------------------------\n",
      " |  Static methods defined here:\n",
      " |  \n",
      " |  __new__(*args, **kwargs) from builtins.type\n",
      " |      Create and return a new object.  See help(type) for accurate signature.\n",
      " |  \n",
      " |  ----------------------------------------------------------------------\n",
      " |  Data descriptors defined here:\n",
      " |  \n",
      " |  start\n",
      " |  \n",
      " |  step\n",
      " |  \n",
      " |  stop\n",
      "\n"
     ]
    }
   ],
   "source": [
    " help(range)"
   ]
  },
  {
   "cell_type": "markdown",
   "metadata": {},
   "source": [
    "##### isinstance()"
   ]
  },
  {
   "cell_type": "code",
   "execution_count": 84,
   "metadata": {},
   "outputs": [
    {
     "name": "stdout",
     "output_type": "stream",
     "text": [
      "True\n",
      "False\n"
     ]
    }
   ],
   "source": [
    "# returns bool \n",
    "# isintance(var, type)\n",
    "num = 3\n",
    "print(isinstance(num, int))\n",
    "print(isinstance(num, str))"
   ]
  },
  {
   "cell_type": "code",
   "execution_count": 93,
   "metadata": {},
   "outputs": [
    {
     "name": "stdout",
     "output_type": "stream",
     "text": [
      "Pick a number 36.2\n"
     ]
    },
    {
     "ename": "ValueError",
     "evalue": "invalid literal for int() with base 10: '36.2'",
     "output_type": "error",
     "traceback": [
      "\u001b[1;31m---------------------------------------------------------------------------\u001b[0m",
      "\u001b[1;31mValueError\u001b[0m                                Traceback (most recent call last)",
      "\u001b[1;32m<ipython-input-93-6b6325c1134e>\u001b[0m in \u001b[0;36m<module>\u001b[1;34m\u001b[0m\n\u001b[0;32m      1\u001b[0m \u001b[0mnum\u001b[0m\u001b[1;33m=\u001b[0m\u001b[0minput\u001b[0m\u001b[1;33m(\u001b[0m\u001b[1;34m\"Pick a number \"\u001b[0m\u001b[1;33m)\u001b[0m\u001b[1;33m\u001b[0m\u001b[1;33m\u001b[0m\u001b[0m\n\u001b[0;32m      2\u001b[0m \u001b[1;33m\u001b[0m\u001b[0m\n\u001b[1;32m----> 3\u001b[1;33m \u001b[1;32mif\u001b[0m \u001b[0misinstance\u001b[0m\u001b[1;33m(\u001b[0m\u001b[0mint\u001b[0m\u001b[1;33m(\u001b[0m\u001b[0mnum\u001b[0m\u001b[1;33m)\u001b[0m\u001b[1;33m,\u001b[0m \u001b[0mint\u001b[0m\u001b[1;33m)\u001b[0m\u001b[1;33m:\u001b[0m\u001b[1;33m\u001b[0m\u001b[1;33m\u001b[0m\u001b[0m\n\u001b[0m\u001b[0;32m      4\u001b[0m     \u001b[0mprint\u001b[0m\u001b[1;33m(\u001b[0m\u001b[1;34mf'{num} is an int'\u001b[0m\u001b[1;33m)\u001b[0m\u001b[1;33m\u001b[0m\u001b[1;33m\u001b[0m\u001b[0m\n\u001b[0;32m      5\u001b[0m \u001b[1;32melse\u001b[0m\u001b[1;33m:\u001b[0m\u001b[1;33m\u001b[0m\u001b[1;33m\u001b[0m\u001b[0m\n",
      "\u001b[1;31mValueError\u001b[0m: invalid literal for int() with base 10: '36.2'"
     ]
    }
   ],
   "source": [
    "num=input(\"Pick a number \")\n",
    "\n",
    "if isinstance(int(num), int):\n",
    "    print(f'{num} is an int')\n",
    "else:\n",
    "    print(f'{num} is a float!')"
   ]
  },
  {
   "cell_type": "markdown",
   "metadata": {},
   "source": [
    "##### abs()"
   ]
  },
  {
   "cell_type": "code",
   "execution_count": 85,
   "metadata": {},
   "outputs": [
    {
     "name": "stdout",
     "output_type": "stream",
     "text": [
      "5\n",
      "5\n"
     ]
    }
   ],
   "source": [
    "# | -5 |  = 5 .. which measure the dist from Zero\n",
    "\n",
    "print(abs(-5))\n",
    "print(abs(5))"
   ]
  },
  {
   "cell_type": "markdown",
   "metadata": {},
   "source": [
    "### Try and Except"
   ]
  },
  {
   "cell_type": "code",
   "execution_count": 99,
   "metadata": {
    "scrolled": true
   },
   "outputs": [
    {
     "name": "stdout",
     "output_type": "stream",
     "text": [
      "Guess a numberString\n",
      "That didnt work. Change your input to a number\n"
     ]
    }
   ],
   "source": [
    "try: \n",
    "    number_test = 0\n",
    "    input_num = int(input('Guess a number'))\n",
    "    print(\"Your number is: \" +str(input_num))        \n",
    "except:\n",
    "    print(\"That didnt work. Change your input to a number\")"
   ]
  },
  {
   "cell_type": "markdown",
   "metadata": {},
   "source": [
    "### Lists"
   ]
  },
  {
   "cell_type": "markdown",
   "metadata": {},
   "source": [
    "##### Declaring Lists"
   ]
  },
  {
   "cell_type": "code",
   "execution_count": 101,
   "metadata": {},
   "outputs": [
    {
     "name": "stdout",
     "output_type": "stream",
     "text": [
      "['Max', 'Cindy', 'Kathy', 'Brad']\n"
     ]
    }
   ],
   "source": [
    "list_1=[]\n",
    "\n",
    "names = [\"Max\", \"Cindy\", \"Kathy\", \"Brad\"]\n",
    "print(names)"
   ]
  },
  {
   "cell_type": "markdown",
   "metadata": {},
   "source": [
    "##### Indexing a List"
   ]
  },
  {
   "cell_type": "code",
   "execution_count": 102,
   "metadata": {},
   "outputs": [
    {
     "name": "stdout",
     "output_type": "stream",
     "text": [
      "Cindy\n",
      "Cindy\n",
      "['Cindy', 'Kathy']\n",
      "['Max', 'Cindy', 'Kathy', 'Brad']\n",
      "['Max', 'Cindy', 'Kathy']\n",
      "['Cindy', 'Kathy', 'Brad']\n",
      "['Max', 'Kathy']\n",
      "['Brad', 'Kathy', 'Cindy', 'Max']\n",
      "evetS\n",
      "racecar\n",
      "palindrome\n"
     ]
    }
   ],
   "source": [
    "print(names[-3])\n",
    "print(names[1])\n",
    "# list_name[index]\n",
    "\n",
    "\n",
    "# Slicing [start:end:step]\n",
    "print(\n",
    "    names[1:3]\n",
    ")\n",
    "\n",
    "print(\n",
    "    names[:]\n",
    ")\n",
    "\n",
    "print(\n",
    "    names[:3]\n",
    ")\n",
    "\n",
    "print(\n",
    "    names[1:]\n",
    ")\n",
    "\n",
    "\n",
    "print(\n",
    "    names[::2]\n",
    ")\n",
    "\n",
    "print(\n",
    "    names[::-1]\n",
    ")\n",
    "\n",
    "# Slcing also works on strings\n",
    "print(\"Steve\"[::-1])\n",
    "\n",
    "print(\"racecar\"[::-1])\n",
    "\n",
    "my_string = \"racecar\"\n",
    "if my_string == my_string[::-1]:\n",
    "    print(\"palindrome\")"
   ]
  },
  {
   "cell_type": "markdown",
   "metadata": {},
   "source": [
    "##### .append()"
   ]
  },
  {
   "cell_type": "code",
   "execution_count": 103,
   "metadata": {},
   "outputs": [
    {
     "name": "stdout",
     "output_type": "stream",
     "text": [
      "['Max', 'Cindy', 'Kathy', 'Brad', 'Kristina']\n"
     ]
    }
   ],
   "source": [
    "names.append(\"Kristina\")\n",
    "\n",
    "print(names)"
   ]
  },
  {
   "cell_type": "markdown",
   "metadata": {},
   "source": [
    "##### .insert()"
   ]
  },
  {
   "cell_type": "code",
   "execution_count": 106,
   "metadata": {},
   "outputs": [
    {
     "name": "stdout",
     "output_type": "stream",
     "text": [
      "['Max', 'Sheb', 'Sheb', 'Sheb', 'Cindy', 'Kathy', 'Brad', 'Kristina']\n"
     ]
    },
    {
     "data": {
      "text/plain": [
       "['Max', 'Sheb', 'Janet', 'Sheb', 'Cindy', 'Kathy', 'Brad', 'Kristina']"
      ]
     },
     "execution_count": 106,
     "metadata": {},
     "output_type": "execute_result"
    }
   ],
   "source": [
    "names.insert(1,\"Sheb\")\n",
    "print(names)\n",
    "\n",
    "names[2]=\"Janet\"\n",
    "names"
   ]
  },
  {
   "cell_type": "markdown",
   "metadata": {},
   "source": [
    "##### .pop()"
   ]
  },
  {
   "cell_type": "code",
   "execution_count": 107,
   "metadata": {},
   "outputs": [
    {
     "name": "stdout",
     "output_type": "stream",
     "text": [
      "Janet\n",
      "['Max', 'Sheb', 'Sheb', 'Cindy', 'Kathy', 'Brad', 'Kristina']\n"
     ]
    }
   ],
   "source": [
    "my_name = names.pop(2)\n",
    "print(my_name)\n",
    "print(names)"
   ]
  },
  {
   "cell_type": "markdown",
   "metadata": {},
   "source": [
    "\n",
    "##### .remove()"
   ]
  },
  {
   "cell_type": "code",
   "execution_count": 108,
   "metadata": {},
   "outputs": [
    {
     "name": "stdout",
     "output_type": "stream",
     "text": [
      "['Max', 'Cindy', 'Kathy', 'Brad', 'Kristina']\n"
     ]
    }
   ],
   "source": [
    "while 'Sheb'in names:\n",
    "    names.remove('Sheb')\n",
    "print(names)"
   ]
  },
  {
   "cell_type": "markdown",
   "metadata": {},
   "source": [
    "##### del()"
   ]
  },
  {
   "cell_type": "code",
   "execution_count": 109,
   "metadata": {},
   "outputs": [
    {
     "name": "stdout",
     "output_type": "stream",
     "text": [
      "['Max', 'Kathy', 'Brad', 'Kristina']\n"
     ]
    }
   ],
   "source": [
    "del(names[1])\n",
    "print(names)"
   ]
  },
  {
   "cell_type": "markdown",
   "metadata": {},
   "source": [
    "##### Concatenating Two Lists"
   ]
  },
  {
   "cell_type": "code",
   "execution_count": 112,
   "metadata": {},
   "outputs": [
    {
     "name": "stdout",
     "output_type": "stream",
     "text": [
      "[0, 1, 2, 2, 3, 4, 5]\n"
     ]
    }
   ],
   "source": [
    "list_2 = [0,1,2]\n",
    "list_3 = [2,3,4,5]\n",
    "list_4 = list_2 + list_3\n",
    "print(list_4)"
   ]
  },
  {
   "cell_type": "markdown",
   "metadata": {},
   "source": [
    "##### Lists Within Lists"
   ]
  },
  {
   "cell_type": "code",
   "execution_count": 111,
   "metadata": {},
   "outputs": [
    {
     "name": "stdout",
     "output_type": "stream",
     "text": [
      "['Max', 'Kathy', 'Brad', ['Sally', ['Sue', 'Jim']], 'Kristina']\n",
      "Jim\n"
     ]
    }
   ],
   "source": [
    "names = ['Max', 'Kathy', 'Brad', ['Sally', ['Sue', \"Jim\"]], 'Kristina']\n",
    "print(names)\n",
    "print(names[3][1][1])"
   ]
  },
  {
   "cell_type": "markdown",
   "metadata": {},
   "source": [
    "##### Looping Through Lists"
   ]
  },
  {
   "cell_type": "code",
   "execution_count": 114,
   "metadata": {},
   "outputs": [
    {
     "name": "stdout",
     "output_type": "stream",
     "text": [
      "Max\n",
      "Kathy\n",
      "Brad\n",
      "['Sally', ['Sue', 'Jim']]\n",
      "Kristina\n",
      "Max\n",
      "Kathy\n",
      "Brad\n",
      "['Sally', ['Sue', 'Jim']]\n",
      "Kristina\n"
     ]
    }
   ],
   "source": [
    "for i in range(len(names)):\n",
    "    print(names[i])\n",
    "    \n",
    "for i in names:\n",
    "    print(i)"
   ]
  },
  {
   "cell_type": "markdown",
   "metadata": {},
   "source": [
    "## Exercise #1 <br>\n",
    "<p>Cube Number Test... Print out all cubed numbers up to the total value 1000. Meaning that if the cubed number is over 1000 break the loop.</p>"
   ]
  },
  {
   "cell_type": "code",
   "execution_count": 115,
   "metadata": {},
   "outputs": [
    {
     "name": "stdout",
     "output_type": "stream",
     "text": [
      "0\n",
      "1\n",
      "8\n",
      "27\n",
      "64\n",
      "125\n",
      "216\n",
      "343\n",
      "512\n",
      "729\n",
      "1000\n"
     ]
    }
   ],
   "source": [
    "for i in range(100):\n",
    "    if i**3 >1000:\n",
    "        break\n",
    "    print(i**3)"
   ]
  },
  {
   "cell_type": "markdown",
   "metadata": {},
   "source": [
    "## Exercise #2 <br>\n",
    "<p>Get first prime numbers up to 100</p>"
   ]
  },
  {
   "cell_type": "code",
   "execution_count": 138,
   "metadata": {},
   "outputs": [
    {
     "name": "stdout",
     "output_type": "stream",
     "text": [
      " 2\n",
      " 3\n",
      " 5\n",
      " 7\n",
      " 11\n",
      " 13\n",
      " 17\n",
      " 19\n",
      " 23\n",
      " 29\n",
      " 31\n",
      " 37\n",
      " 41\n",
      " 43\n",
      " 47\n",
      " 53\n",
      " 59\n",
      " 61\n",
      " 67\n",
      " 71\n",
      " 73\n",
      " 79\n",
      " 83\n",
      " 89\n",
      " 97\n"
     ]
    }
   ],
   "source": [
    "# HINT::\n",
    "# An else after an if runs if the if didn’t\n",
    "# An else after a for runs if the for didn’t break\n",
    "\n",
    "for num in range (1, 101):\n",
    "    count = 0\n",
    "    for i in range(2, (num//2 + 1)):\n",
    "        if(num % i == 0):\n",
    "            count = count + 1\n",
    "            break\n",
    "\n",
    "    if (count == 0 and num != 1):\n",
    "        print(f\" {num}\")    \n",
    "\n"
   ]
  },
  {
   "cell_type": "markdown",
   "metadata": {},
   "source": [
    "# Exercise 3 <br>\n",
    "<p>Take in a users input for their age, if they are younger than 18 print kids, if they're 18 to 65 print adults, else print seniors</p>"
   ]
  },
  {
   "cell_type": "code",
   "execution_count": 142,
   "metadata": {},
   "outputs": [
    {
     "name": "stdout",
     "output_type": "stream",
     "text": [
      "What is your age? 82\n",
      "seniors\n"
     ]
    }
   ],
   "source": [
    "age = int(input(\"What is your age? \"))\n",
    "\n",
    "if age < 18:\n",
    "    print(\"kids\")\n",
    "elif age > 65:\n",
    "    print(\"seniors\")\n",
    "else:\n",
    "    print(\"adults\")"
   ]
  }
 ],
 "metadata": {
  "kernelspec": {
   "display_name": "Python 3",
   "language": "python",
   "name": "python3"
  },
  "language_info": {
   "codemirror_mode": {
    "name": "ipython",
    "version": 3
   },
   "file_extension": ".py",
   "mimetype": "text/x-python",
   "name": "python",
   "nbconvert_exporter": "python",
   "pygments_lexer": "ipython3",
   "version": "3.8.5"
  }
 },
 "nbformat": 4,
 "nbformat_minor": 2
}
