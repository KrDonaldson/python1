{
 "cells": [
  {
   "cell_type": "markdown",
   "metadata": {
    "id": "tzz5-Wnl6qaM"
   },
   "source": [
    "# Object-Oriented-Programming (OOP)"
   ]
  },
  {
   "cell_type": "markdown",
   "metadata": {
    "id": "u5kRIYx66qaO"
   },
   "source": [
    "## Tasks Today:\n",
    "\n",
    "   \n",
    "\n",
    "1) <b>Creating a Class (Initializing/Declaring)</b> <br>\n",
    "2) <b>Using a Class (Instantiating)</b> <br>\n",
    " &nbsp;&nbsp;&nbsp;&nbsp; a) Creating One Instance <br>\n",
    " &nbsp;&nbsp;&nbsp;&nbsp; b) Creating Multiple Instances <br>\n",
    " &nbsp;&nbsp;&nbsp;&nbsp; c) In-Class Exercise #1 - Create a Class 'Car' and instantiate three different makes of cars <br>\n",
    "3) <b>The \\__init\\__() Method</b> <br>\n",
    " &nbsp;&nbsp;&nbsp;&nbsp; a) The 'self' Attribute <br>\n",
    "4) <b>Class Attributes</b> <br>\n",
    " &nbsp;&nbsp;&nbsp;&nbsp; a) Initializing Attributes <br>\n",
    " &nbsp;&nbsp;&nbsp;&nbsp; b) Setting an Attribute Outside of the \\__init\\__() Method <br>\n",
    " &nbsp;&nbsp;&nbsp;&nbsp; c) Setting Defaults for Attributes <br>\n",
    " &nbsp;&nbsp;&nbsp;&nbsp; d) Accessing Class Attributes <br>\n",
    " &nbsp;&nbsp;&nbsp;&nbsp; e) Changing Class Attributes <br>\n",
    " &nbsp;&nbsp;&nbsp;&nbsp; f) In-Class Exercise #2 - Add a color and wheels attribute to your 'Car' class <br>\n",
    "5) <b>Class Methods</b> <br>\n",
    " &nbsp;&nbsp;&nbsp;&nbsp; a) Creating <br>\n",
    " &nbsp;&nbsp;&nbsp;&nbsp; b) Calling <br>\n",
    " &nbsp;&nbsp;&nbsp;&nbsp; c) Modifying an Attribute's Value Through a Method <br>\n",
    " &nbsp;&nbsp;&nbsp;&nbsp; d) Incrementing an Attribute's Value Through a Method <br>\n",
    " &nbsp;&nbsp;&nbsp;&nbsp; e) In-Class Exercise #3 - Add a method that prints the cars color and wheel number, then call them <br>\n",
    "6) <b>Inheritance</b> <br>\n",
    " &nbsp;&nbsp;&nbsp;&nbsp; a) Syntax for Inheriting from a Parent Class <br>\n",
    " &nbsp;&nbsp;&nbsp;&nbsp; b) The \\__init\\__() Method for a Child Class (super()) <br>\n",
    " &nbsp;&nbsp;&nbsp;&nbsp; c) Defining Attributes and Methods for the Child Class <br>\n",
    " &nbsp;&nbsp;&nbsp;&nbsp; d) Method Overriding <br>\n",
    " &nbsp;&nbsp;&nbsp;&nbsp; e) In-Class Exercise #4 - Create a class 'Ford' that inherits from 'Car' class and initialize it as a Blue Ford Explorer with 4 wheels using the super() method <br>\n",
    "7) <b>Classes as Attributes</b> <br>\n",
    "8) <b>Exercises</b> <br>\n",
    " &nbsp;&nbsp;&nbsp;&nbsp; a) Exercise #1 - Turn the shopping cart program from yesterday into an object-oriented program <br>"
   ]
  },
  {
   "cell_type": "markdown",
   "metadata": {
    "id": "bV1RNZTn6qaP"
   },
   "source": [
    "## Creating a Class (Initializing/Declaring)\n",
    "<p>When creating a class, function, or even a variable you are initializing that object. Initializing and Declaring occur at the same time in Python, whereas in lower level languages you have to declare an object before initializing it. This is the first step in the process of using a class.</p>"
   ]
  },
  {
   "cell_type": "code",
   "execution_count": 5,
   "metadata": {
    "executionInfo": {
     "elapsed": 307,
     "status": "ok",
     "timestamp": 1654400144143,
     "user": {
      "displayName": "Brandon Apol",
      "userId": "10984203036753147866"
     },
     "user_tz": 480
    },
    "id": "S7HPzAkZ6qaQ"
   },
   "outputs": [],
   "source": [
    "class Car():\n",
    "    wheels = 4\n",
    "    color = 'blue'"
   ]
  },
  {
   "cell_type": "markdown",
   "metadata": {
    "id": "Bi4oK3Om6qaQ"
   },
   "source": [
    "## Using a Class (Instantiating)\n",
    "<p>The process of creating a class is called <i>Instantiating</i>. Each time you create a variable of that type of class, it is referred to as an <i>Instance</i> of that class. This is the second step in the process of using a class.</p>"
   ]
  },
  {
   "cell_type": "markdown",
   "metadata": {
    "id": "_WzS37Z_6qaR"
   },
   "source": [
    "##### Creating One Instance"
   ]
  },
  {
   "cell_type": "code",
   "execution_count": 6,
   "metadata": {
    "colab": {
     "base_uri": "https://localhost:8080/"
    },
    "executionInfo": {
     "elapsed": 306,
     "status": "ok",
     "timestamp": 1654400232968,
     "user": {
      "displayName": "Brandon Apol",
      "userId": "10984203036753147866"
     },
     "user_tz": 480
    },
    "id": "GNpeQ4056qaR",
    "outputId": "75a86f8c-980c-438f-dc34-fd9ed4b00c55"
   },
   "outputs": [
    {
     "name": "stdout",
     "output_type": "stream",
     "text": [
      "4\n"
     ]
    }
   ],
   "source": [
    "ford = Car()\n",
    "print(ford.wheels)"
   ]
  },
  {
   "cell_type": "markdown",
   "metadata": {
    "id": "5UTTxfbq6qaS"
   },
   "source": [
    "##### Creating Multiple Instances"
   ]
  },
  {
   "cell_type": "code",
   "execution_count": 7,
   "metadata": {
    "colab": {
     "base_uri": "https://localhost:8080/",
     "height": 218
    },
    "executionInfo": {
     "elapsed": 276,
     "status": "error",
     "timestamp": 1654400319844,
     "user": {
      "displayName": "Brandon Apol",
      "userId": "10984203036753147866"
     },
     "user_tz": 480
    },
    "id": "vvNgCYxM6qaS",
    "outputId": "694d656d-da72-4748-b400-e1a62bca93fd"
   },
   "outputs": [
    {
     "name": "stdout",
     "output_type": "stream",
     "text": [
      "<class 'str'>\n"
     ]
    },
    {
     "ename": "AttributeError",
     "evalue": "ignored",
     "output_type": "error",
     "traceback": [
      "\u001b[0;31m---------------------------------------------------------------------------\u001b[0m",
      "\u001b[0;31mAttributeError\u001b[0m                            Traceback (most recent call last)",
      "\u001b[0;32m<ipython-input-7-588218de20be>\u001b[0m in \u001b[0;36m<module>\u001b[0;34m()\u001b[0m\n\u001b[1;32m      4\u001b[0m \u001b[0;34m\u001b[0m\u001b[0m\n\u001b[1;32m      5\u001b[0m \u001b[0mprint\u001b[0m\u001b[0;34m(\u001b[0m\u001b[0mtype\u001b[0m\u001b[0;34m(\u001b[0m\u001b[0mporsche\u001b[0m\u001b[0;34m.\u001b[0m\u001b[0mcolor\u001b[0m\u001b[0;34m)\u001b[0m\u001b[0;34m)\u001b[0m\u001b[0;34m\u001b[0m\u001b[0;34m\u001b[0m\u001b[0m\n\u001b[0;32m----> 6\u001b[0;31m \u001b[0mprint\u001b[0m\u001b[0;34m(\u001b[0m\u001b[0mporsche\u001b[0m\u001b[0;34m.\u001b[0m\u001b[0mbumper\u001b[0m\u001b[0;34m)\u001b[0m\u001b[0;34m\u001b[0m\u001b[0;34m\u001b[0m\u001b[0m\n\u001b[0m",
      "\u001b[0;31mAttributeError\u001b[0m: 'Car' object has no attribute 'bumper'"
     ]
    }
   ],
   "source": [
    "chevy = Car()\n",
    "honda = Car()\n",
    "porsche = Car()\n",
    "\n",
    "print(type(porsche.color))\n",
    "print(porsche.bumper)\n"
   ]
  },
  {
   "cell_type": "markdown",
   "metadata": {
    "id": "Nkie3MQN6qaS"
   },
   "source": [
    "##### In-Class Exercise #1 - Create a Class 'Car' and Instantiate three different makes of cars"
   ]
  },
  {
   "cell_type": "code",
   "execution_count": 4,
   "metadata": {
    "id": "l_CiL6xs6qaS"
   },
   "outputs": [
    {
     "name": "stdout",
     "output_type": "stream",
     "text": [
      "<__main__.Car object at 0x000001E30C13CF70>\n",
      "2000\n"
     ]
    }
   ],
   "source": [
    "class Car():\n",
    "    doors = 4\n",
    "    color = \"white\"\n",
    "    wheels = 4\n",
    "    year = 2000\n",
    "    \n",
    "print(Car())\n",
    "\n",
    "nissan = Car()\n",
    "ford = Car()\n",
    "mazda = Car()\n",
    "\n",
    "print(car2.year)"
   ]
  },
  {
   "cell_type": "markdown",
   "metadata": {
    "id": "4I9QMKHT6qaS"
   },
   "source": [
    "## The \\__init\\__() Method <br>\n",
    "<p>This method is used in almost every created class, and called only once upon the creation of the class instance. This method will initialize all variables needed for the object.</p>"
   ]
  },
  {
   "cell_type": "code",
   "execution_count": 8,
   "metadata": {
    "colab": {
     "base_uri": "https://localhost:8080/"
    },
    "executionInfo": {
     "elapsed": 297,
     "status": "ok",
     "timestamp": 1654400605284,
     "user": {
      "displayName": "Brandon Apol",
      "userId": "10984203036753147866"
     },
     "user_tz": 480
    },
    "id": "A4mXk-5v6qaT",
    "outputId": "ac218617-dc13-4856-aeaf-b8afe334d484"
   },
   "outputs": [
    {
     "name": "stdout",
     "output_type": "stream",
     "text": [
      "4\n",
      "6\n"
     ]
    }
   ],
   "source": [
    "class Car():\n",
    "  engine = '4.7L' # constant attribute\n",
    "\n",
    "  def __init__(self, wheels, color):\n",
    "    self.wheels = wheels\n",
    "    self.color = color\n",
    "\n",
    "ford = Car(4, 'red')\n",
    "chevy = Car(6, 'black')\n",
    "\n",
    "print(ford.wheels)\n",
    "print(chevy.wheels)"
   ]
  },
  {
   "cell_type": "markdown",
   "metadata": {
    "id": "E3FhAPyW6qaT"
   },
   "source": [
    "##### The 'self' Attribute <br>\n",
    "<p>This attribute is required to keep track of specific instance's attributes. Without the self attribute, the program would not know how to reference or keep track of an instance's attributes.</p>"
   ]
  },
  {
   "cell_type": "code",
   "execution_count": null,
   "metadata": {
    "id": "gqlafbUx6qaT"
   },
   "outputs": [],
   "source": [
    "# see above"
   ]
  },
  {
   "cell_type": "code",
   "execution_count": 25,
   "metadata": {},
   "outputs": [
    {
     "name": "stdout",
     "output_type": "stream",
     "text": [
      "Clean\n"
     ]
    },
    {
     "data": {
      "text/plain": [
       "'Why on Earth do you not want a rock climbing wall?'"
      ]
     },
     "execution_count": 25,
     "metadata": {},
     "output_type": "execute_result"
    }
   ],
   "source": [
    "class House():\n",
    "    \n",
    "    def __init__(self,dishes,wall):\n",
    "        self.wall = wall\n",
    "        self.dishes = dishes\n",
    "        \n",
    "    def washDishes(self):\n",
    "        if self.dishes.lower() == 'dirty':\n",
    "            print( 'Clean')\n",
    "        \n",
    "    def rockClimbingWall(self):\n",
    "        if self.wall.lower() == \"yes\":\n",
    "            return 'walk on, Climber!'\n",
    "        else:\n",
    "            return 'Why on Earth do you not want a rock climbing wall?'\n",
    "        \n",
    "brandon_house = House('dirty','no')\n",
    "\n",
    "brandon_house.washDishes()\n",
    "brandon_house.rockClimbingWall()"
   ]
  },
  {
   "cell_type": "markdown",
   "metadata": {
    "id": "rTd9cgBn6qaT"
   },
   "source": [
    "## Class Attributes <br>\n",
    "<p>While variables are inside of a class, they are referred to as attributes and not variables. When someone says 'attribute' you know they're speaking about a class. Attributes can be initialized through the init method, or outside of it.</p>"
   ]
  },
  {
   "cell_type": "markdown",
   "metadata": {
    "id": "sXSQitFB6qaT"
   },
   "source": [
    "##### Initializing Attributes"
   ]
  },
  {
   "cell_type": "code",
   "execution_count": 9,
   "metadata": {
    "executionInfo": {
     "elapsed": 263,
     "status": "ok",
     "timestamp": 1654400961508,
     "user": {
      "displayName": "Brandon Apol",
      "userId": "10984203036753147866"
     },
     "user_tz": 480
    },
    "id": "gFrutSJ96qaT"
   },
   "outputs": [],
   "source": [
    "# see above\n",
    "\n",
    "class Toy():\n",
    "  kind = 'car'\n",
    "\n",
    "  def __init__(self, rooftop, horn, wheels = 4):\n",
    "    self.rooftop = rooftop\n",
    "    self.horn = horn\n",
    "    self.wheels = wheels\n",
    "\n",
    "tonka_truck = Toy(1,1)\n",
    "hotwheels_car = Toy(2,3,8)\n"
   ]
  },
  {
   "cell_type": "markdown",
   "metadata": {
    "id": "5qEDs3Ef6qaU"
   },
   "source": [
    "##### Accessing Class Attributes"
   ]
  },
  {
   "cell_type": "code",
   "execution_count": 11,
   "metadata": {
    "colab": {
     "base_uri": "https://localhost:8080/"
    },
    "executionInfo": {
     "elapsed": 336,
     "status": "ok",
     "timestamp": 1654401000610,
     "user": {
      "displayName": "Brandon Apol",
      "userId": "10984203036753147866"
     },
     "user_tz": 480
    },
    "id": "9Uo5umjk6qaU",
    "outputId": "5187dd0d-2ac2-48dd-8be2-b3d10e145241",
    "scrolled": false
   },
   "outputs": [
    {
     "name": "stdout",
     "output_type": "stream",
     "text": [
      "1\n",
      "8\n"
     ]
    }
   ],
   "source": [
    "# See Above\n",
    "print(tonka_truck.horn)\n",
    "print(hotwheels_car.wheels)"
   ]
  },
  {
   "cell_type": "markdown",
   "metadata": {
    "id": "589n2bfI6qaU"
   },
   "source": [
    "##### Setting Defaults for Attributes"
   ]
  },
  {
   "cell_type": "code",
   "execution_count": 8,
   "metadata": {
    "colab": {
     "base_uri": "https://localhost:8080/"
    },
    "executionInfo": {
     "elapsed": 291,
     "status": "ok",
     "timestamp": 1654401207595,
     "user": {
      "displayName": "Brandon Apol",
      "userId": "10984203036753147866"
     },
     "user_tz": 480
    },
    "id": "xbpERQEX6qaU",
    "outputId": "b8c54225-fdc5-4ae4-eda9-8d588a17b2f5"
   },
   "outputs": [
    {
     "name": "stdout",
     "output_type": "stream",
     "text": [
      "Blue\n",
      "4\n",
      "5.4L\n"
     ]
    }
   ],
   "source": [
    "class Car():\n",
    "    engine = '4.7L'\n",
    "    \n",
    "    def __init__(self,wheels):\n",
    "      self.wheels = wheels\n",
    "      self.color = 'Blue'\n",
    "\n",
    "honda = Car(4)\n",
    "print(honda.color)\n",
    "print(honda.wheels)\n",
    "honda.engine = '5.4L'\n",
    "print(honda.engine)"
   ]
  },
  {
   "cell_type": "markdown",
   "metadata": {
    "id": "ir8k02ZE6qaU"
   },
   "source": [
    "##### Changing Class Attributes <br>\n",
    "<p>Keep in mind there are global class attributes and then there are attributes only available to each class instance which won't effect other classes.</p>"
   ]
  },
  {
   "cell_type": "code",
   "execution_count": 9,
   "metadata": {
    "id": "RfGZ5kbu6qaU"
   },
   "outputs": [
    {
     "name": "stdout",
     "output_type": "stream",
     "text": [
      "Blue\n",
      "white\n"
     ]
    }
   ],
   "source": [
    "jeep = Car(8)\n",
    "\n",
    "print(jeep.color)\n",
    "\n",
    "jeep.color = 'white'\n",
    "\n",
    "print(jeep.color)"
   ]
  },
  {
   "cell_type": "code",
   "execution_count": null,
   "metadata": {
    "id": "zeppI2y-6qaU"
   },
   "outputs": [],
   "source": []
  },
  {
   "cell_type": "markdown",
   "metadata": {
    "id": "omwSVPyN6qaU"
   },
   "source": [
    "##### In-Class Exercise #2 - Add a doors and seats attribute to your 'Car' class then print out two different instances with different doors and seats"
   ]
  },
  {
   "cell_type": "code",
   "execution_count": 33,
   "metadata": {
    "id": "fyKwSeJg6qaU"
   },
   "outputs": [
    {
     "name": "stdout",
     "output_type": "stream",
     "text": [
      "Jeeps have 4 seats.\n",
      "The honda has 2 seats now. So the Car() class and all instances have 2 seats unless we change that\n"
     ]
    }
   ],
   "source": [
    "Car.hasSunRoof = True\n",
    "jeep.hasSunRoof\n",
    "\n",
    "Car.seats = 2\n",
    "\n",
    "jeep.seats = 4 \n",
    "\n",
    "print(f'Jeeps have {jeep.seats} seats.')\n",
    "print(f'The honda has {honda.seats} seats now. So the Car() class and all instances have {Car.seats} seats unless we change that')"
   ]
  },
  {
   "cell_type": "markdown",
   "metadata": {
    "id": "2cAd7L9I6qaU"
   },
   "source": [
    "## Class Methods <br>\n",
    "<p>While inside of a class, functions are referred to as 'methods'. If you hear someone mention methods, they're speaking about classes. Methods are essentially functions, but only callable on the instances of a class.</p>"
   ]
  },
  {
   "cell_type": "markdown",
   "metadata": {
    "id": "GpY6_Yz56qaU"
   },
   "source": [
    "##### Creating"
   ]
  },
  {
   "cell_type": "code",
   "execution_count": 43,
   "metadata": {
    "executionInfo": {
     "elapsed": 260,
     "status": "ok",
     "timestamp": 1654402995715,
     "user": {
      "displayName": "Brandon Apol",
      "userId": "10984203036753147866"
     },
     "user_tz": 480
    },
    "id": "DuiDzP1p6qaU"
   },
   "outputs": [],
   "source": [
    "class ShoppingBag():\n",
    "\n",
    "    '''\n",
    "    The ShoppingBag class will have handles, capacity, \n",
    "    and items to place inside.\n",
    "\n",
    "    Attributes for the class: \n",
    "    - handles: expected to be an integer\n",
    "    - items: expected to be a list\n",
    "    - capacity: expected to be an integer\n",
    "    ''' \n",
    "    def __init__(self,handles, items = [], capacity = 10):\n",
    "        self.handles = handles\n",
    "        self.items = items\n",
    "        self.capacity = capacity\n",
    "\n",
    "    def showShoppingBag(self):\n",
    "        if len(self.items) == 0:\n",
    "          print('You have no items.')\n",
    "        else:\n",
    "          print(\"You have items in your bag!!!\")\n",
    "          for item in self.items:\n",
    "            print(item)\n",
    "\n",
    "    def showCapacity(self):\n",
    "        print(f'Your remaining capacity is: {self.capacity - len(self.items)}')\n",
    "\n",
    "    def addToShoppingBag(self):\n",
    "        if len(self.items) == self.capacity:\n",
    "            print('You have no room!')\n",
    "        else:\n",
    "            product = input('What would you like to add? ')\n",
    "            self.items.append(product)\n",
    "        \n",
    "    def changeBagCapacity(self,capacity):\n",
    "        self.capacity = capacity\n",
    "        \n",
    "    def increaseCapacity(self, changed_capacity = 10):\n",
    "        if self.capacity == isinstance(self.capacity, str):\n",
    "            print(\"We can't add that here\")\n",
    "        else:\n",
    "            self.capacity += changed_capacity\n",
    "            \n",
    "    def showHandles(self):\n",
    "        print(f'You have {self.handles} handles on your bag')"
   ]
  },
  {
   "cell_type": "markdown",
   "metadata": {
    "id": "jLqPPUlV6qaU"
   },
   "source": [
    "##### Calling"
   ]
  },
  {
   "cell_type": "code",
   "execution_count": 44,
   "metadata": {
    "colab": {
     "base_uri": "https://localhost:8080/"
    },
    "executionInfo": {
     "elapsed": 48652,
     "status": "ok",
     "timestamp": 1654403046490,
     "user": {
      "displayName": "Brandon Apol",
      "userId": "10984203036753147866"
     },
     "user_tz": 480
    },
    "id": "dQJXHGDp6qaU",
    "outputId": "766e54ef-853c-4e8e-b0d1-e793f1f06323"
   },
   "outputs": [
    {
     "name": "stdout",
     "output_type": "stream",
     "text": [
      "What would you like to do?\n",
      "\n",
      "You may:\n",
      "- Add\n",
      "-Show\n",
      "-Quit\n",
      "melon\n",
      "That is not a valid option. Please enter add, show, or quit.\n",
      "What would you like to do?\n",
      "\n",
      "You may:\n",
      "- Add\n",
      "-Show\n",
      "-Quit\n",
      "lemon\n",
      "That is not a valid option. Please enter add, show, or quit.\n",
      "What would you like to do?\n",
      "\n",
      "You may:\n",
      "- Add\n",
      "-Show\n",
      "-Quit\n",
      "grapes\n",
      "That is not a valid option. Please enter add, show, or quit.\n",
      "What would you like to do?\n",
      "\n",
      "You may:\n",
      "- Add\n",
      "-Show\n",
      "-Quit\n",
      "quit\n",
      "You have no items.\n",
      "Thanks for shopping!\n"
     ]
    }
   ],
   "source": [
    "# See Above - above is an idea of the shopping bag; we will need to instantiate it to make one and use it\n",
    "\n",
    "# this is us instantiating one \n",
    "wholeFoodsBag = ShoppingBag(2)\n",
    "\n",
    "# here is our run function to run the ShoppingBag methods on our bag \n",
    "def run():\n",
    "  while True:\n",
    "    response = input(\"What would you like to do?\\n\\nYou may:\\n- Add\\n-Show\\n-Quit\\n\")\n",
    "\n",
    "    if response.lower() == 'quit':\n",
    "      wholeFoodsBag.showShoppingBag()\n",
    "      print('Thanks for shopping!')\n",
    "      break\n",
    "    elif response.lower() == 'add':\n",
    "      wholeFoodsBag.addToShoppingBag()\n",
    "    elif response.lower() == 'show':\n",
    "      showChoice = input('What would you like to see: \\n- Capacity\\n- Handles\\n- Shopping Bag')\n",
    "      if showChoice.lower() == 'capacity':\n",
    "        wholeFoodsBag.showCapacity()\n",
    "      elif showChoice.lower() == 'handles':\n",
    "        wholeFoodsBag.showHandles()\n",
    "      else:\n",
    "        wholeFoodsBag.showShoppingBag()\n",
    "    else:\n",
    "      print('That is not a valid option. Please enter add, show, or quit.')\n",
    "\n",
    "run()"
   ]
  },
  {
   "cell_type": "markdown",
   "metadata": {
    "id": "zKvlDgTo6qaV"
   },
   "source": [
    "##### Modifying an Attribute's Value Through a Method"
   ]
  },
  {
   "cell_type": "code",
   "execution_count": 45,
   "metadata": {
    "id": "9M6x0qsk6qaV"
   },
   "outputs": [
    {
     "name": "stdout",
     "output_type": "stream",
     "text": [
      "Your remaining capacity is: 10\n",
      "Capacity after the change ...\n",
      "Your remaining capacity is: 40\n"
     ]
    }
   ],
   "source": [
    "wholeFoodsBag.showCapacity()\n",
    "print(\"Capacity after the change ...\")\n",
    "wholeFoodsBag.changeBagCapacity(40)\n",
    "wholeFoodsBag.showCapacity()"
   ]
  },
  {
   "cell_type": "markdown",
   "metadata": {
    "id": "s1eIpLA76qaV"
   },
   "source": [
    "##### Incrementing an Attribute's Value Through a Method"
   ]
  },
  {
   "cell_type": "code",
   "execution_count": 46,
   "metadata": {
    "id": "DBQ07qOI6qaV"
   },
   "outputs": [
    {
     "name": "stdout",
     "output_type": "stream",
     "text": [
      "Your remaining capacity is: 40\n",
      "After increase\n",
      "Your remaining capacity is: 50\n"
     ]
    }
   ],
   "source": [
    "wholeFoodsBag.showCapacity()\n",
    "print(\"After increase\")\n",
    "wholeFoodsBag.increaseCapacity()\n",
    "wholeFoodsBag.showCapacity()"
   ]
  },
  {
   "cell_type": "markdown",
   "metadata": {
    "id": "3OnGbPMg6qaV"
   },
   "source": [
    "##### In-Class Exercise #3 - Add a method that takes in three parameters of year, doors and seats and prints out a formatted print statement with make, model, year, seats, and doors"
   ]
  },
  {
   "cell_type": "code",
   "execution_count": 58,
   "metadata": {
    "id": "njxbIERD6qaV"
   },
   "outputs": [
    {
     "name": "stdout",
     "output_type": "stream",
     "text": [
      "This car is from 2019 and is a Ford Explorer and has 4 doors and 5 seats\n"
     ]
    }
   ],
   "source": [
    "class NewCar():\n",
    "    \n",
    "    # Create class with 2 paramters inside of the __init__ which are make and model\n",
    "    def __init__(self, make, model):\n",
    "        self.make = make\n",
    "        self.model = model\n",
    "    \n",
    "    # Inside of the Car class create a method that has 4 parameter in total (self,year,door,seats)\n",
    "    def details(self, year, door, seats):\n",
    "        self.door = door\n",
    "        self.year = year\n",
    "        self.seats = seats\n",
    "        print(f'This car is from {year} and is a {self.make} {self.model} and has {door} doors and {seats} seats')\n",
    "\n",
    "# Output: This car is from 2019 and is a Ford Expolorer and has 4 doors and 5 seats\n",
    "\n",
    "thisCar = NewCar('Ford', 'Explorer')\n",
    "thisCar.details(2019, 4, 5)"
   ]
  },
  {
   "cell_type": "markdown",
   "metadata": {
    "id": "dwpcygAo6qaV"
   },
   "source": [
    "## Inheritance <br>\n",
    "<p>You can create a child-parent relationship between two classes by using inheritance. What this allows you to do is have overriding methods, but also inherit traits from the parent class. Think of it as an actual parent and child, the child will inherit the parent's genes, as will the classes in OOP</p>"
   ]
  },
  {
   "cell_type": "markdown",
   "metadata": {
    "id": "RxjwbuIl6qaV"
   },
   "source": [
    "##### Syntax for Inheriting from a Parent Class"
   ]
  },
  {
   "cell_type": "code",
   "execution_count": 79,
   "metadata": {
    "id": "fVjKab2o6qaV"
   },
   "outputs": [
    {
     "ename": "TypeError",
     "evalue": "Mutt() takes 1 positional argument but 3 were given",
     "output_type": "error",
     "traceback": [
      "\u001b[1;31m---------------------------------------------------------------------------\u001b[0m",
      "\u001b[1;31mTypeError\u001b[0m                                 Traceback (most recent call last)",
      "\u001b[1;32m<ipython-input-79-727893d5f056>\u001b[0m in \u001b[0;36m<module>\u001b[1;34m\u001b[0m\n\u001b[0;32m     33\u001b[0m \u001b[0mlassie\u001b[0m \u001b[1;33m=\u001b[0m \u001b[0mDog\u001b[0m\u001b[1;33m(\u001b[0m\u001b[1;34m'Lassie'\u001b[0m\u001b[1;33m,\u001b[0m \u001b[1;34m'Dog'\u001b[0m\u001b[1;33m)\u001b[0m\u001b[1;33m\u001b[0m\u001b[1;33m\u001b[0m\u001b[0m\n\u001b[0;32m     34\u001b[0m \u001b[0mbasic_animal\u001b[0m \u001b[1;33m=\u001b[0m \u001b[0mAnimal\u001b[0m\u001b[1;33m(\u001b[0m\u001b[1;34m'Generic Animal Name'\u001b[0m\u001b[1;33m,\u001b[0m \u001b[1;34m'Generic Animal Species'\u001b[0m\u001b[1;33m)\u001b[0m\u001b[1;33m\u001b[0m\u001b[1;33m\u001b[0m\u001b[0m\n\u001b[1;32m---> 35\u001b[1;33m \u001b[0mbuster\u001b[0m \u001b[1;33m=\u001b[0m \u001b[0mMutt\u001b[0m\u001b[1;33m(\u001b[0m\u001b[1;34m\"buster\"\u001b[0m\u001b[1;33m,\u001b[0m \u001b[1;34m\"Mix\"\u001b[0m\u001b[1;33m,\u001b[0m \u001b[1;34m'Brown'\u001b[0m\u001b[1;33m)\u001b[0m\u001b[1;33m\u001b[0m\u001b[1;33m\u001b[0m\u001b[0m\n\u001b[0m\u001b[0;32m     36\u001b[0m \u001b[1;33m\u001b[0m\u001b[0m\n\u001b[0;32m     37\u001b[0m \u001b[0mlassie\u001b[0m\u001b[1;33m.\u001b[0m\u001b[0mname\u001b[0m\u001b[1;33m\u001b[0m\u001b[1;33m\u001b[0m\u001b[0m\n",
      "\u001b[1;31mTypeError\u001b[0m: Mutt() takes 1 positional argument but 3 were given"
     ]
    }
   ],
   "source": [
    "class Animal():\n",
    "    acceleration = 9.8\n",
    "    \n",
    "    def __init__(self, name, species, legs = 4):\n",
    "        self.name = name\n",
    "        self.species = species\n",
    "        self.legs = legs\n",
    "        \n",
    "        #generic parent method - this is not overriding anything \n",
    "        def makeSound(self):\n",
    "            print('Make a generic sound')\n",
    "            \n",
    "#child\n",
    "class Dog(Animal):\n",
    "    speed = 15\n",
    "    \n",
    "    def printInfo(self):\n",
    "        print(f'The dog has {self.speed} mph in speead and {self.acceleration}')\n",
    "        \n",
    "#grandchild\n",
    "def Mutt(Dog):\n",
    "    color = \"Tan\"\n",
    "    \n",
    "    def __init__(self, name, species, eye_color, legs = 4):\n",
    "        Dog.__init__(self,name,species,legs)\n",
    "        self.eye_color = eye_color\n",
    "        \n",
    "    def makeSound(self):\n",
    "        noise = 'Bark'\n",
    "        return noise\n",
    "\n",
    "        \n",
    "lassie = Dog('Lassie', 'Dog')\n",
    "basic_animal = Animal('Generic Animal Name', 'Generic Animal Species')\n",
    "buster = Mutt(\"buster\", \"Mix\", 'Brown')\n",
    "\n",
    "lassie.name\n",
    "basic_animal.name"
   ]
  },
  {
   "cell_type": "markdown",
   "metadata": {
    "id": "gW-PNDG66qaV"
   },
   "source": [
    "##### The \\__init\\__() Method for a Child Class - super()"
   ]
  },
  {
   "cell_type": "code",
   "execution_count": null,
   "metadata": {
    "id": "kfA6mVBq6qaV",
    "scrolled": true
   },
   "outputs": [],
   "source": []
  },
  {
   "cell_type": "markdown",
   "metadata": {
    "id": "XUO6XcM46qaV"
   },
   "source": [
    "##### Defining Attributes and Methods for the Child Class"
   ]
  },
  {
   "cell_type": "code",
   "execution_count": null,
   "metadata": {
    "id": "V2icaoLM6qaV"
   },
   "outputs": [],
   "source": [
    "# See Above"
   ]
  },
  {
   "cell_type": "markdown",
   "metadata": {
    "id": "9Rr2MZdB6qaV"
   },
   "source": [
    "##### Method Overriding"
   ]
  },
  {
   "cell_type": "code",
   "execution_count": null,
   "metadata": {
    "id": "r67j7Np96qaV"
   },
   "outputs": [],
   "source": [
    "# See Above"
   ]
  },
  {
   "cell_type": "markdown",
   "metadata": {
    "id": "2x6DBjcJ6qaV"
   },
   "source": [
    "## Classes as Attributes <br>\n",
    "<p>Classes can also be used as attributes within another class. This is useful in situations where you need to keep variables locally stored, instead of globally stored.</p>"
   ]
  },
  {
   "cell_type": "code",
   "execution_count": 80,
   "metadata": {
    "id": "yJ4rQuLP6qaV"
   },
   "outputs": [
    {
     "data": {
      "text/plain": [
       "'2019 Tesla Model X 20'"
      ]
     },
     "execution_count": 80,
     "metadata": {},
     "output_type": "execute_result"
    }
   ],
   "source": [
    "class Battery():\n",
    "    volts = 7.8\n",
    "    \n",
    "    def __init__(self, cells):\n",
    "        self.cells = cells \n",
    "        \n",
    "class Car():\n",
    "    def __init__(self, year, make, model, battery):\n",
    "        self.year = year\n",
    "        self.make = make\n",
    "        self.model = model\n",
    "        self.battery = battery\n",
    "        \n",
    "    def printInfo(self):\n",
    "        return f'{self.year} {self.make} {self.model} {self.battery.cells}'\n",
    "        \n",
    "my_battery = Battery(20)\n",
    "\n",
    "tesla = Car(2019, 'Tesla', 'Model X', my_battery)\n",
    "tesla.printInfo()"
   ]
  },
  {
   "cell_type": "markdown",
   "metadata": {
    "id": "0TaDNag56qaV"
   },
   "source": [
    "# Exercises"
   ]
  },
  {
   "cell_type": "markdown",
   "metadata": {
    "id": "OmiCVOuc6qaV"
   },
   "source": [
    "### Exercise 1 - Turn the shopping cart program from yesterday into an object-oriented program\n",
    "\n",
    "The comments in the cell below are there as a guide for thinking about the problem. However, if you feel a different way is best for you and your own thought process, please do what feels best for you by all means."
   ]
  },
  {
   "cell_type": "code",
   "execution_count": 108,
   "metadata": {
    "id": "nIJiQUSl6qaW"
   },
   "outputs": [
    {
     "name": "stdout",
     "output_type": "stream",
     "text": [
      "Would you like to add an item, remove an item, show your list, or quit? add\n",
      "What would you like to add? lemon\n",
      "Would you like to add an item, remove an item, show your list, or quit? add\n",
      "What would you like to add? banana\n",
      "Would you like to add an item, remove an item, show your list, or quit? add\n",
      "What would you like to add? grapes\n",
      "Would you like to add an item, remove an item, show your list, or quit? delete\n",
      "What would you like to delete? grapes\n",
      "Would you like to add an item, remove an item, show your list, or quit? add\n",
      "What would you like to add? salad\n",
      "Would you like to add an item, remove an item, show your list, or quit? quit\n",
      "Thanks! See you soon!\n",
      "1   lemon\n",
      "1   banana\n",
      "1   salad\n"
     ]
    }
   ],
   "source": [
    "# Create a class called cart that retains items and has methods to add, remove, and show\n",
    "class Cart():\n",
    "    '''\n",
    "    The cart class will have items. \n",
    "    Items expected to be a list. \n",
    "    ''' \n",
    "        \n",
    "    def __init__(self, items = {}):\n",
    "        self.items = items\n",
    "        \n",
    "    def addToCart(self):\n",
    "        item = input('What would you like to add? ')\n",
    "        if item in self.items:\n",
    "            self.items[item] += 1\n",
    "        else:\n",
    "            self.items[item] = 1\n",
    "        \n",
    "    def removeFromCart(self):\n",
    "        item = input(\"What would you like to delete? \")\n",
    "        if item in self.items:\n",
    "            del self.items[item]\n",
    "        else:\n",
    "            print(\"You don't have that in your list.\")\n",
    "    \n",
    "    def showCart(self):\n",
    "        if self.items == {}:\n",
    "            print(\"Your cart is empty\")\n",
    "        else:\n",
    "            for key, value in self.items.items():\n",
    "                print(value,\" \",key)\n",
    "                \n",
    "    def checkOut(self):\n",
    "        print(\"Thanks! See you soon!\")\n",
    "        for key, value in self.items.items():\n",
    "            print(value,\" \",key)\n",
    "\n",
    "\n",
    "shoppingCart = Cart()\n",
    "\n",
    "\n",
    "def shop():\n",
    "\n",
    "    while True:\n",
    "        \n",
    "        what_do = input(\"Would you like to add an item, remove an item, show your list, or quit? \")\n",
    "        \n",
    "        if (what_do == 'quit'):\n",
    "            shoppingCart.checkOut()\n",
    "            break\n",
    "            \n",
    "        elif (what_do == 'add'):\n",
    "            shoppingCart.addToCart()\n",
    "            \n",
    "        \n",
    "        elif (what_do == 'delete'):\n",
    "            shoppingCart.removeFromCart()\n",
    "            \n",
    "        elif (what_do == 'show'):\n",
    "            shoppingCart.showCart()\n",
    "        \n",
    "        else:\n",
    "            print(\"Please enter add, delete, show, or quit.\")\n",
    "            \n",
    "shop() "
   ]
  },
  {
   "cell_type": "markdown",
   "metadata": {
    "id": "X7uS68a06qaW"
   },
   "source": [
    "### Exercise 2 - Write a Python class which has two methods get_String and print_String. get_String accept a string from the user and print_String print the string in upper case"
   ]
  },
  {
   "cell_type": "code",
   "execution_count": 90,
   "metadata": {
    "id": "WdrwThy96qaW"
   },
   "outputs": [],
   "source": [
    "class SayWhat():\n",
    "    \n",
    "    def __init__(self):\n",
    "        self.userString = \"\"\n",
    "\n",
    "    def get_String(self):\n",
    "        self.userString = input()\n",
    "\n",
    "    def print_String(self):\n",
    "        print(self.userString.upper())"
   ]
  }
 ],
 "metadata": {
  "colab": {
   "name": "Python Document IV.ipynb",
   "provenance": []
  },
  "kernelspec": {
   "display_name": "Python 3",
   "language": "python",
   "name": "python3"
  },
  "language_info": {
   "codemirror_mode": {
    "name": "ipython",
    "version": 3
   },
   "file_extension": ".py",
   "mimetype": "text/x-python",
   "name": "python",
   "nbconvert_exporter": "python",
   "pygments_lexer": "ipython3",
   "version": "3.8.5"
  }
 },
 "nbformat": 4,
 "nbformat_minor": 1
}
